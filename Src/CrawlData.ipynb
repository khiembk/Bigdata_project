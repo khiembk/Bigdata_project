{
 "cells": [
  {
   "cell_type": "code",
   "execution_count": 4,
   "metadata": {
    "id": "Izek2X8AO_2Z"
   },
   "outputs": [],
   "source": [
    "import requests\n",
    "from bs4 import BeautifulSoup\n",
    "\n",
    "# Example URL (replace with the actual website you want to scrape)\n",
    "url = 'https://dstock.vndirect.com.vn/'\n",
    "\n",
    "# Send a request to the website\n",
    "response = requests.get(url)\n",
    "\n",
    "# Parse the HTML content\n",
    "soup = BeautifulSoup(response.content, 'html.parser')\n",
    "\n",
    "# Extract stock data (this will depend on the website's structure)\n",
    "stock_data = soup.find_all('div', class_='stock-class')  # Replace 'stock-class' with actual class\n",
    "\n",
    "# Display extracted data\n",
    "for data in stock_data:\n",
    "    print(data.text)"
   ]
  },
  {
   "cell_type": "code",
   "execution_count": null,
   "metadata": {
    "colab": {
     "base_uri": "https://localhost:8080/"
    },
    "id": "Dhf1iVeoRjT5",
    "outputId": "2c5362ea-3e80-4d5d-a611-359f48a8478d"
   },
   "outputs": [
    {
     "name": "stdout",
     "output_type": "stream",
     "text": [
      "[{'Ticker': 'AAPL', 'Date': '2024-11-11', 'Open': 225.0, 'High': 225.6999969482422, 'Low': 221.5, 'Close': 224.22999572753906, 'Volume': 42005600, 'Dividends': 0.0, 'Stock Splits': 0.0}, {'Ticker': 'AAPL', 'Date': '2024-11-12', 'Open': 224.5500030517578, 'High': 225.58999633789062, 'Low': 223.36000061035156, 'Close': 224.22999572753906, 'Volume': 40398300, 'Dividends': 0.0, 'Stock Splits': 0.0}, {'Ticker': 'AAPL', 'Date': '2024-11-13', 'Open': 224.00999450683594, 'High': 226.64999389648438, 'Low': 222.75999450683594, 'Close': 225.1199951171875, 'Volume': 48566200, 'Dividends': 0.0, 'Stock Splits': 0.0}, {'Ticker': 'AAPL', 'Date': '2024-11-14', 'Open': 225.02000427246094, 'High': 228.8699951171875, 'Low': 225.0, 'Close': 228.22000122070312, 'Volume': 44923900, 'Dividends': 0.0, 'Stock Splits': 0.0}, {'Ticker': 'AAPL', 'Date': '2024-11-15', 'Open': 226.39999389648438, 'High': 226.9199981689453, 'Low': 224.27000427246094, 'Close': 225.0, 'Volume': 47832200, 'Dividends': 0.0, 'Stock Splits': 0.0}]\n",
      "Data saved to AAPL_stock_data.json\n"
     ]
    }
   ],
   "source": [
    "import json\n",
    "import yfinance as yf\n",
    "\n",
    "ticker = 'TSLA'\n",
    "stock = yf.Ticker(ticker)\n",
    "\n",
    "# Get historical market data for a specific date range\n",
    "hist = stock.history(start=\"2023-12-20\", end=\"2024-12-25\")\n",
    "\n",
    "# Convert the historical data to JSON format\n",
    "# Reset index to ensure the 'Date' column is included in the data\n",
    "hist.reset_index(inplace=True)\n",
    "\n",
    "# Prepare the data for saving to JSON, convert each row to a dictionary\n",
    "daily_data = []\n",
    "for _, row in hist.iterrows():\n",
    "    # Convert each row into a dictionary format\n",
    "    data = {\n",
    "        \"Ticker\": str(ticker),\n",
    "        \"Date\": str(row[\"Date\"].date()),  # Convert date to string\n",
    "        \"Open\": row[\"Open\"],\n",
    "        \"High\": row[\"High\"],\n",
    "        \"Low\": row[\"Low\"],\n",
    "        \"Close\": row[\"Close\"],\n",
    "        \"Volume\": row[\"Volume\"],\n",
    "        \"Dividends\": row[\"Dividends\"],\n",
    "        \"Stock Splits\": row[\"Stock Splits\"]\n",
    "    }\n",
    "    daily_data.append(data)\n",
    "\n",
    "print(daily_data)\n",
    "# Save the data as a JSON file\n",
    "with open(\"{}_stock_data.json\".format(ticker), \"w\") as json_file:\n",
    "    json.dump(daily_data, json_file, indent=4)\n",
    "\n",
    "print(\"Data saved to {}_stock_data.json\".format(ticker))\n"
   ]
  },
  {
   "cell_type": "code",
   "execution_count": 1,
   "metadata": {
    "colab": {
     "base_uri": "https://localhost:8080/"
    },
    "id": "KTRhrDm4QqbT",
    "outputId": "2ceec994-edbc-4114-f431-b1432a3984c4"
   },
   "outputs": [
    {
     "name": "stdout",
     "output_type": "stream",
     "text": [
      "Requirement already satisfied: requests in /usr/local/lib/python3.10/dist-packages (2.32.3)\n",
      "Requirement already satisfied: beautifulsoup4 in /usr/local/lib/python3.10/dist-packages (4.12.3)\n",
      "Requirement already satisfied: charset-normalizer<4,>=2 in /usr/local/lib/python3.10/dist-packages (from requests) (3.4.0)\n",
      "Requirement already satisfied: idna<4,>=2.5 in /usr/local/lib/python3.10/dist-packages (from requests) (3.10)\n",
      "Requirement already satisfied: urllib3<3,>=1.21.1 in /usr/local/lib/python3.10/dist-packages (from requests) (2.2.3)\n",
      "Requirement already satisfied: certifi>=2017.4.17 in /usr/local/lib/python3.10/dist-packages (from requests) (2024.8.30)\n",
      "Requirement already satisfied: soupsieve>1.2 in /usr/local/lib/python3.10/dist-packages (from beautifulsoup4) (2.6)\n"
     ]
    }
   ],
   "source": [
    "!pip install requests beautifulsoup4"
   ]
  }
 ],
 "metadata": {
  "colab": {
   "provenance": []
  },
  "kernelspec": {
   "display_name": "usr",
   "language": "python",
   "name": "python3"
  },
  "language_info": {
   "codemirror_mode": {
    "name": "ipython",
    "version": 3
   },
   "file_extension": ".py",
   "mimetype": "text/x-python",
   "name": "python",
   "nbconvert_exporter": "python",
   "pygments_lexer": "ipython3",
   "version": "3.10.12"
  }
 },
 "nbformat": 4,
 "nbformat_minor": 0
}
