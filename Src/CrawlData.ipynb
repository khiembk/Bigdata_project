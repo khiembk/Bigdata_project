{
  "nbformat": 4,
  "nbformat_minor": 0,
  "metadata": {
    "colab": {
      "provenance": []
    },
    "kernelspec": {
      "name": "python3",
      "display_name": "Python 3"
    },
    "language_info": {
      "name": "python"
    }
  },
  "cells": [
    {
      "cell_type": "code",
      "execution_count": 4,
      "metadata": {
        "id": "Izek2X8AO_2Z"
      },
      "outputs": [],
      "source": [
        "import requests\n",
        "from bs4 import BeautifulSoup\n",
        "\n",
        "# Example URL (replace with the actual website you want to scrape)\n",
        "url = 'https://dstock.vndirect.com.vn/'\n",
        "\n",
        "# Send a request to the website\n",
        "response = requests.get(url)\n",
        "\n",
        "# Parse the HTML content\n",
        "soup = BeautifulSoup(response.content, 'html.parser')\n",
        "\n",
        "# Extract stock data (this will depend on the website's structure)\n",
        "stock_data = soup.find_all('div', class_='stock-class')  # Replace 'stock-class' with actual class\n",
        "\n",
        "# Display extracted data\n",
        "for data in stock_data:\n",
        "    print(data.text)"
      ]
    },
    {
      "cell_type": "code",
      "source": [
        "import json\n",
        "import yfinance as yf\n",
        "\n",
        "ticker = 'AAPL'\n",
        "stock = yf.Ticker(ticker)\n",
        "\n",
        "# Get historical market data for a specific date range\n",
        "hist = stock.history(start=\"2024-10-19\", end=\"2024-10-20\")\n",
        "\n",
        "# Convert the historical data to JSON format\n",
        "# Reset index to ensure the 'Date' column is included in the data\n",
        "hist.reset_index(inplace=True)\n",
        "\n",
        "# Prepare the data for saving to JSON, convert each row to a dictionary\n",
        "daily_data = []\n",
        "for _, row in hist.iterrows():\n",
        "    # Convert each row into a dictionary format\n",
        "    data = {\n",
        "        \"Ticker\": str(ticker),\n",
        "        \"Date\": str(row[\"Date\"].date()),  # Convert date to string\n",
        "        \"Open\": row[\"Open\"],\n",
        "        \"High\": row[\"High\"],\n",
        "        \"Low\": row[\"Low\"],\n",
        "        \"Close\": row[\"Close\"],\n",
        "        \"Volume\": row[\"Volume\"]\n",
        "    }\n",
        "    daily_data.append(data)\n",
        "\n",
        "print(daily_data)\n",
        "# Save the data as a JSON file\n",
        "with open(\"AAPL_stock_data.json\", \"w\") as json_file:\n",
        "    json.dump(daily_data, json_file, indent=4)\n",
        "\n",
        "print(\"Data saved to AAPL_stock_data.json\")\n"
      ],
      "metadata": {
        "colab": {
          "base_uri": "https://localhost:8080/"
        },
        "id": "Dhf1iVeoRjT5",
        "outputId": "38f17275-9131-4d28-8053-4035a92fb816"
      },
      "execution_count": 14,
      "outputs": [
        {
          "output_type": "stream",
          "name": "stdout",
          "text": [
            "[{'Ticker': 'AAPL', 'Date': '2024-10-18', 'Open': 235.8800048828125, 'High': 236.0500030517578, 'Low': 234.02000427246094, 'Close': 235.0, 'Volume': 46431472}]\n",
            "Data saved to AAPL_stock_data.json\n"
          ]
        }
      ]
    },
    {
      "cell_type": "code",
      "source": [
        "!pip install requests beautifulsoup4"
      ],
      "metadata": {
        "colab": {
          "base_uri": "https://localhost:8080/"
        },
        "id": "KTRhrDm4QqbT",
        "outputId": "2ceec994-edbc-4114-f431-b1432a3984c4"
      },
      "execution_count": 1,
      "outputs": [
        {
          "output_type": "stream",
          "name": "stdout",
          "text": [
            "Requirement already satisfied: requests in /usr/local/lib/python3.10/dist-packages (2.32.3)\n",
            "Requirement already satisfied: beautifulsoup4 in /usr/local/lib/python3.10/dist-packages (4.12.3)\n",
            "Requirement already satisfied: charset-normalizer<4,>=2 in /usr/local/lib/python3.10/dist-packages (from requests) (3.4.0)\n",
            "Requirement already satisfied: idna<4,>=2.5 in /usr/local/lib/python3.10/dist-packages (from requests) (3.10)\n",
            "Requirement already satisfied: urllib3<3,>=1.21.1 in /usr/local/lib/python3.10/dist-packages (from requests) (2.2.3)\n",
            "Requirement already satisfied: certifi>=2017.4.17 in /usr/local/lib/python3.10/dist-packages (from requests) (2024.8.30)\n",
            "Requirement already satisfied: soupsieve>1.2 in /usr/local/lib/python3.10/dist-packages (from beautifulsoup4) (2.6)\n"
          ]
        }
      ]
    }
  ]
}